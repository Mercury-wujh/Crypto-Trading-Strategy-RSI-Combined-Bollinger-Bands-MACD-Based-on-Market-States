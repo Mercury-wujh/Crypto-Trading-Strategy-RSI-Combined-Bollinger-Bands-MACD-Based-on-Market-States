{
 "cells": [
  {
   "cell_type": "code",
   "outputs": [],
   "source": [
    "import pandas as pd\n",
    "import time\n",
    "import os\n",
    "import func as func\n",
    "from datetime import datetime\n",
    "from binance.client import Client\n",
    "from binance.enums import *"
   ],
   "metadata": {
    "collapsed": false,
    "ExecuteTime": {
     "end_time": "2025-10-03T04:18:16.328148Z",
     "start_time": "2025-10-03T04:18:11.438717Z"
    }
   },
   "id": "7801dbc39e20a0f9",
   "execution_count": 1
  },
  {
   "cell_type": "markdown",
   "source": [
    "Create a client"
   ],
   "metadata": {
    "collapsed": false
   },
   "id": "84d90a662fa9ba99"
  },
  {
   "cell_type": "code",
   "outputs": [],
   "source": [
    "def create_client(API_KEY, API_SECRET, test):\n",
    "    if test:\n",
    "        client = Client(API_KEY, API_SECRET, testnet=test)\n",
    "        #client.API_URL = 'https://testnet.binance.vision/api'\n",
    "    else:\n",
    "        client = Client(API_KEY, API_SECRET)\n",
    "    return client"
   ],
   "metadata": {
    "collapsed": false,
    "ExecuteTime": {
     "end_time": "2025-10-03T04:18:19.757088Z",
     "start_time": "2025-10-03T04:18:19.752454Z"
    }
   },
   "id": "6281c532d2e59e3c",
   "execution_count": 2
  },
  {
   "cell_type": "markdown",
   "source": [
    "Place order"
   ],
   "metadata": {
    "collapsed": false
   },
   "id": "bbd5c6ccffdabb2"
  },
  {
   "cell_type": "code",
   "outputs": [],
   "source": [
    "def place_order(client, symbol, side, amount):\n",
    "    try:\n",
    "        order = client.create_order(\n",
    "            symbol=symbol,\n",
    "            side=side.upper(),\n",
    "            type=ORDER_TYPE_MARKET,  # market Order, executed immediately at the current market price\n",
    "            quantity=round(amount, 5)  # keep 5 decimal places to avoid precision errors\n",
    "        )\n",
    "        print(f\"[{datetime.now()}] Placed {side} order: {amount} {symbol}\")  # print the order\n",
    "        return order\n",
    "    \n",
    "    except Exception as e:\n",
    "        print(f\"[ERROR] Order failed: {e}\")\n",
    "        return None"
   ],
   "metadata": {
    "collapsed": false,
    "ExecuteTime": {
     "end_time": "2025-10-03T04:18:23.989138Z",
     "start_time": "2025-10-03T04:18:23.985608Z"
    }
   },
   "id": "407f400fbde5357",
   "execution_count": 3
  },
  {
   "cell_type": "markdown",
   "source": [
    "Main strategy"
   ],
   "metadata": {
    "collapsed": false
   },
   "id": "dde9238e08a6917d"
  },
  {
   "cell_type": "code",
   "outputs": [],
   "source": [
    "def strategy(client, df, param):\n",
    "    # get the last klines to generate trading signal\n",
    "    row = df.iloc[-1, :]\n",
    "    # 获取账户余额\n",
    "    usdt = float(client.get_asset_balance(asset=\"USDT\")[\"free\"])   # USDT hold\n",
    "    position = float(client.get_asset_balance(asset=\"BTC\")[\"free\"])  # BTC hold\n",
    "    pv = usdt + position * row[\"close\"]\n",
    "    order = None\n",
    "\n",
    "    # ======== ranging market: RSI + BB ========\n",
    "    if row[\"ADX\"] < param[\"adx_threshold\"][0]:\n",
    "        if ((row[\"RSI\"] < param[\"rsi_threshold\"][0]) and  # RSI denotes oversold\n",
    "            (row[\"close\"] < param[\"bb_threshold\"][0] * row[\"BB_low\"]) and  # close falls below lower line of bbands\n",
    "            (usdt / pv > 0.4)):\n",
    "            allocation = min(pv * param[\"trade_ratio\"], usdt)\n",
    "            amount = allocation / row[\"close\"]\n",
    "            \n",
    "            order = place_order(client, symbol, \"buy\", amount)\n",
    "\n",
    "        if ((row[\"RSI\"] > param[\"rsi_threshold\"][1]) and\n",
    "            (row[\"close\"] > param[\"bb_threshold\"][1] * row[\"BB_up\"]) and\n",
    "            (position > param[\"trade_ratio\"])):\n",
    "            allocation = position * row[\"close\"]\n",
    "            amount = allocation / row[\"close\"]\n",
    "            amount = min(amount, position)\n",
    "                \n",
    "            if amount > param[\"min_position\"]:\n",
    "                order = place_order(client, symbol, \"sell\", amount)\n",
    "\n",
    "    # ======== trending market: RSI + MACD ========\n",
    "    if row[\"ADX\"] > param[\"adx_threshold\"][1]:\n",
    "        if row[\"MACD\"] > row[\"signal\"]:  # uptrend\n",
    "            if row[\"RSI\"] < param[\"rsi_up\"][0]:\n",
    "                allocation = min(pv * param[\"trade_ratio\"], usdt)\n",
    "                buy_price = row[\"close\"]\n",
    "                amount = allocation / buy_price\n",
    "                order = place_order(client, symbol, \"buy\", amount)\n",
    "                \n",
    "            elif row[\"RSI\"] > param[\"rsi_up\"][1]:\n",
    "                allocation = position * row[\"close\"]\n",
    "                amount = allocation / row[\"close\"]\n",
    "                amount = min(amount, position)\n",
    "                    \n",
    "                if amount > param[\"min_position\"]:\n",
    "                    order = place_order(client, symbol, \"sell\", amount)\n",
    "\n",
    "        elif row[\"MACD\"] < row[\"signal\"]:  # downtrend\n",
    "            if row[\"RSI\"] < param[\"rsi_down\"][0]:\n",
    "                allocation = min(pv * param[\"trade_ratio\"], usdt)\n",
    "                amount = allocation / row[\"close\"]\n",
    "\n",
    "                order = place_order(client, symbol, \"buy\", amount)\n",
    "                \n",
    "            elif row[\"RSI\"] > param[\"rsi_down\"][1]:\n",
    "                allocation = position * row[\"close\"]\n",
    "                amount = allocation / row[\"close\"]\n",
    "                amount = min(amount, position)\n",
    "                    \n",
    "                if amount > param[\"min_position\"]:\n",
    "                    order = place_order(client, symbol, \"sell\", amount)\n",
    "\n",
    "    return order"
   ],
   "metadata": {
    "collapsed": false,
    "ExecuteTime": {
     "end_time": "2025-10-03T04:19:07.066907Z",
     "start_time": "2025-10-03T04:19:07.036760Z"
    }
   },
   "id": "ed413d192bf22e19",
   "execution_count": 4
  },
  {
   "cell_type": "markdown",
   "source": [
    "Loop"
   ],
   "metadata": {
    "collapsed": false
   },
   "id": "bf8bff1749ee9b79"
  },
  {
   "cell_type": "code",
   "outputs": [],
   "source": [
    "def main(REAL_API_KEY, REAL_API_SECRET, TEST_API_KEY, TEST_API_SECRET, symbol, interval, param, trade_log):\n",
    "    data_client = create_client(REAL_API_KEY, REAL_API_SECRET, test=False)  # getting data from live market\n",
    "    trade_client = create_client(TEST_API_KEY, TEST_API_SECRET, test=True)  # trading on testnet\n",
    "    \n",
    "    while True:\n",
    "        try:\n",
    "            # get latest 200 klines\n",
    "            print(f\"[{datetime.now()}] Fetching data from live market\")\n",
    "            klines = data_client.get_klines(symbol=symbol, interval=interval, limit=200)\n",
    "            df = pd.DataFrame(klines, columns=[\n",
    "                \"open_time\", \"open\", \"high\", \"low\", \"close\", \"volume\", \"close_time\",\n",
    "                \"quote_asset_volume\", \"number_of_trades\", \"taker_buy_base\", \"taker_buy_quote\", \"ignore\"\n",
    "            ])\n",
    "            df = df[[\"open_time\", \"open\", \"high\", \"low\", \"close\", \"volume\", \"close_time\"]]  # only keep key fields\n",
    "            df[\"open_time\"] = pd.to_datetime(df[\"open_time\"], unit=\"ms\")\n",
    "            df[\"close_time\"] = pd.to_datetime(df[\"close_time\"], unit=\"ms\")\n",
    "            df[['close', 'high', 'low']] = df[['close', 'high', 'low']].astype(float)  # transfer the data of selected columns from str to float\n",
    "    \n",
    "            # compute key indicators\n",
    "            period = 14  # time interval for computing RSI and Bollinger Bands\n",
    "            macd_span = [12, 26, 9]  # time interval for computing MACD\n",
    "    \n",
    "            df = func.compute_adx(df, period)  # compute ADX\n",
    "            df['RSI'] = func.compute_rsi(df['close'], period=period, ema=True)  # compute RSI\n",
    "            df['BB_sma'], df['BB_up'], df['BB_low'] = func.compute_bbands(\n",
    "                df['close'], window=period)  # compute bollinger bands, keep window same as period of RSI\n",
    "            df['MACD'], df['signal'], df['histogram'] = func.compute_macd(df['close'], macd_span)  # compute MACD\n",
    "    \n",
    "            # exercise strategy\n",
    "            print(f\"[{datetime.now()}] Running strategy...\")\n",
    "            valid_index = max(df['ADX'].first_valid_index(), df['RSI'].first_valid_index())  # find the first index of line where all indicators are not nan\n",
    "            df = df[df.index >= valid_index].reset_index(drop=True)  # start from the first line that all indicators are not nan\n",
    "            order = strategy(trade_client, df, param)\n",
    "            if order is not None:\n",
    "                record = {\n",
    "                    \"time\": df.iloc[-1, :][\"close_time\"],\n",
    "                    \"side\": order[\"side\"],\n",
    "                    \"price\": order[\"fills\"][0][\"price\"] if \"fills\" in order else None,\n",
    "                    \"executedQty\": order[\"executedQty\"],\n",
    "                    \"orderId\": order[\"orderId\"]\n",
    "                }\n",
    "    \n",
    "                # save to trades.csv\n",
    "                if not os.path.exists(trade_log):\n",
    "                    pd.DataFrame([record]).to_csv(trade_log, index=False)\n",
    "                else:\n",
    "                    pd.DataFrame([record]).to_csv(trade_log, mode=\"a\", header=False, index=False)\n",
    "                    \n",
    "                print(f\"[{datetime.now()}] Trade executed: {record}\")\n",
    "                    \n",
    "        except Exception as e:\n",
    "            print(f\"[ERROR] {e}\")\n",
    "            \n",
    "        time.sleep(3600)  # exercise every hour\n"
   ],
   "metadata": {
    "collapsed": false,
    "ExecuteTime": {
     "end_time": "2025-10-03T04:08:03.588019Z",
     "start_time": "2025-10-03T04:08:03.580265Z"
    }
   },
   "id": "d1d846c40610812f",
   "execution_count": 5
  },
  {
   "cell_type": "code",
   "outputs": [],
   "source": [
    "def main(REAL_API_KEY, REAL_API_SECRET, TEST_API_KEY, TEST_API_SECRET, symbol, interval, param, trade_log):\n",
    "    data_client = create_client(REAL_API_KEY, REAL_API_SECRET, test=False)  # getting data from live market\n",
    "    trade_client = create_client(TEST_API_KEY, TEST_API_SECRET, test=True)  # trading on testnet\n",
    "    \n",
    "    try:\n",
    "        # get latest 200 klines\n",
    "        print(f\"[{datetime.now()}] Fetching data from live market\")\n",
    "        klines = data_client.get_klines(symbol=symbol, interval=interval, limit=200)\n",
    "        df = pd.DataFrame(klines, columns=[\n",
    "            \"open_time\", \"open\", \"high\", \"low\", \"close\", \"volume\", \"close_time\",\n",
    "            \"quote_asset_volume\", \"number_of_trades\", \"taker_buy_base\", \"taker_buy_quote\", \"ignore\"\n",
    "        ])\n",
    "        df = df[[\"open_time\", \"open\", \"high\", \"low\", \"close\", \"volume\", \"close_time\"]]  # only keep key fields\n",
    "        df[\"open_time\"] = pd.to_datetime(df[\"open_time\"], unit=\"ms\")\n",
    "        df[\"close_time\"] = pd.to_datetime(df[\"close_time\"], unit=\"ms\")\n",
    "        df[['close', 'high', 'low']] = df[['close', 'high', 'low']].astype(float)  # transfer the data of selected columns from str to float\n",
    "    \n",
    "        # compute key indicators\n",
    "        period = 14  # time interval for computing RSI and Bollinger Bands\n",
    "        macd_span = [12, 26, 9]  # time interval for computing MACD\n",
    "    \n",
    "        df = func.compute_adx(df, period)  # compute ADX\n",
    "        df['RSI'] = func.compute_rsi(df['close'], period=period, ema=True)  # compute RSI\n",
    "        df['BB_sma'], df['BB_up'], df['BB_low'] = func.compute_bbands(\n",
    "            df['close'], window=period)  # compute bollinger bands, keep window same as period of RSI\n",
    "        df['MACD'], df['signal'], df['histogram'] = func.compute_macd(df['close'], macd_span)  # compute MACD\n",
    "    \n",
    "        # exercise strategy\n",
    "        print(f\"[{datetime.now()}] Running strategy...\")\n",
    "        valid_index = max(df['ADX'].first_valid_index(), df['RSI'].first_valid_index())  # find the first index of line where all indicators are not nan\n",
    "        df = df[df.index >= valid_index].reset_index(drop=True)  # start from the first line that all indicators are not nan\n",
    "        order = strategy(trade_client, df, param)\n",
    "        if order is not None:\n",
    "            record = {\n",
    "                \"time\": df.iloc[-1, :][\"close_time\"],\n",
    "                \"side\": order[\"side\"],\n",
    "                \"price\": order[\"fills\"][0][\"price\"] if \"fills\" in order else None,\n",
    "                \"executedQty\": order[\"executedQty\"],\n",
    "                \"orderId\": order[\"orderId\"]\n",
    "            }\n",
    "    \n",
    "            # 保存到 trades.csv\n",
    "            if not os.path.exists(trade_log):\n",
    "                pd.DataFrame([record]).to_csv(trade_log, index=False)\n",
    "            else:\n",
    "                pd.DataFrame([record]).to_csv(trade_log, mode=\"a\", header=False, index=False)\n",
    "                    \n",
    "            print(f\"[{datetime.now()}] Trade executed: {record}\")\n",
    "                    \n",
    "    except Exception as e:\n",
    "        print(f\"[ERROR] {e}\")\n",
    "            \n",
    "    return klines, df"
   ],
   "metadata": {
    "collapsed": false,
    "ExecuteTime": {
     "end_time": "2025-10-03T04:19:20.991239Z",
     "start_time": "2025-10-03T04:19:20.978127Z"
    }
   },
   "id": "25966cba9dd35dd",
   "execution_count": 5
  },
  {
   "cell_type": "markdown",
   "source": [
    "Live trading"
   ],
   "metadata": {
    "collapsed": false
   },
   "id": "8d1f163a1801029e"
  },
  {
   "cell_type": "code",
   "outputs": [
    {
     "name": "stdout",
     "output_type": "stream",
     "text": [
      "[2025-10-03 12:19:38.338995] Fetching data from live market\n",
      "[2025-10-03 12:19:39.029723] Running strategy...\n"
     ]
    }
   ],
   "source": [
    "if __name__ == \"__main__\":\n",
    "    # API Key\n",
    "    REAL_API_KEY = \"hsG5CK4sxPq1oGKKe0CJh7NRSZok1D0BliqIxAAZhibzJ9RgeZrVIv9HhdLygvEG\"  # API for getting live market data\n",
    "    REAL_API_SECRET = \"tx66aq8NoXFViVA7KDMUjpRWfwSl03hHTAsoTneffcEPGGC4qfC2bolVPxiHvGgQ\"\n",
    "    TEST_API_KEY = \"RPeEh2TpFcFmasUYcQZ7DSkoIECgEnqSf0LX7uQqvw8v2D8HDWHpj6ED5mlIIk8f\"  # API for testnet\n",
    "    TEST_API_SECRET = \"SsvFbDpyxUiyCDgNLUcUeq2feDSt3PzvBOhTvUMoEAjX1aqtjMMgkz2UxpLuPpFl\"\n",
    "    symbol = \"BTCUSDT\"  # targeted crypto\n",
    "    timeframe = \"1h\"   # time interval\n",
    "    \n",
    "    # strategy parameters\n",
    "    param = {\n",
    "        \"trade_ratio\": 0.2,\n",
    "        \"min_position\": 10e-5,  # minimum trading amount\n",
    "        \"adx_threshold\": [20, 25],  # ranging/trending market threshold\n",
    "        \"rsi_threshold\": [30, 70],  # oversold/overbought threshold in ranging market\n",
    "        \"rsi_up\": [35, 75],  # oversold/overbought threshold in uptrend market\n",
    "        \"rsi_down\": [25, 65],  # oversold/overbought threshold in downtrend market\n",
    "        \"bb_threshold\": [0.98, 1.02]  # adjustment of bollinger band\n",
    "    }\n",
    "    \n",
    "    # 交易日志\n",
    "    trade_log=\"trades.csv\"\n",
    "    \n",
    "    klines, df = main(REAL_API_KEY, REAL_API_SECRET, TEST_API_KEY, TEST_API_SECRET, symbol=symbol, interval=timeframe, param=param, trade_log=trade_log)"
   ],
   "metadata": {
    "collapsed": false,
    "ExecuteTime": {
     "end_time": "2025-10-03T04:19:40.914844Z",
     "start_time": "2025-10-03T04:19:34.686509Z"
    }
   },
   "id": "d35bd8b0e5b68d72",
   "execution_count": 6
  },
  {
   "cell_type": "markdown",
   "source": [
    "Check the state of account"
   ],
   "metadata": {
    "collapsed": false
   },
   "id": "697ced51f7b53a11"
  },
  {
   "cell_type": "code",
   "outputs": [],
   "source": [
    "client = Client(TEST_API_KEY, TEST_API_SECRET, testnet=True)\n",
    "\n",
    "account = client.get_account()\n",
    "for asset in account[\"balances\"]:\n",
    "    if float(asset[\"free\"]) > 0:\n",
    "        print(asset)"
   ],
   "metadata": {
    "collapsed": false
   },
   "id": "99985891f7077632",
   "execution_count": null
  }
 ],
 "metadata": {
  "kernelspec": {
   "display_name": "Python 3",
   "language": "python",
   "name": "python3"
  },
  "language_info": {
   "codemirror_mode": {
    "name": "ipython",
    "version": 2
   },
   "file_extension": ".py",
   "mimetype": "text/x-python",
   "name": "python",
   "nbconvert_exporter": "python",
   "pygments_lexer": "ipython2",
   "version": "2.7.6"
  }
 },
 "nbformat": 4,
 "nbformat_minor": 5
}
